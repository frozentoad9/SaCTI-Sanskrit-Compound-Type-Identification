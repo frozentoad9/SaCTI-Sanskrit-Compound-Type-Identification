{
 "cells": [
  {
   "cell_type": "code",
   "execution_count": 3,
   "metadata": {},
   "outputs": [],
   "source": [
    "import pandas as pd\n",
    "from indic_transliteration import sanscript\n",
    "from indic_transliteration.sanscript import SchemeMap, SCHEMES, transliterate\n",
    "from sklearn.model_selection import train_test_split\n"
   ]
  },
  {
   "cell_type": "code",
   "execution_count": 37,
   "metadata": {},
   "outputs": [
    {
     "data": {
      "text/plain": [
       "131"
      ]
     },
     "execution_count": 37,
     "metadata": {},
     "output_type": "execute_result"
    }
   ],
   "source": [
    "len(set(train['Tag']))"
   ]
  },
  {
   "cell_type": "code",
   "execution_count": 8,
   "metadata": {},
   "outputs": [],
   "source": [
    "# data = pd.DataFrame({\"components\":words,\"label\":labels}).drop_duplicates()\n",
    "dfk = pd.read_csv('Global_Compound_Data.csv').drop_duplicates().reset_index()\n",
    "ccount = dfk['Tag'].value_counts()\n",
    "i=0\n",
    "tags = []\n",
    "for key,val in ccount.items():\n",
    "    i=i+1\n",
    "    # print(i,key,ccount[key])\n",
    "    tags.append(key)\n"
   ]
  },
  {
   "cell_type": "code",
   "execution_count": 16,
   "metadata": {},
   "outputs": [
    {
     "data": {
      "text/html": [
       "<div>\n",
       "<style scoped>\n",
       "    .dataframe tbody tr th:only-of-type {\n",
       "        vertical-align: middle;\n",
       "    }\n",
       "\n",
       "    .dataframe tbody tr th {\n",
       "        vertical-align: top;\n",
       "    }\n",
       "\n",
       "    .dataframe thead th {\n",
       "        text-align: right;\n",
       "    }\n",
       "</style>\n",
       "<table border=\"1\" class=\"dataframe\">\n",
       "  <thead>\n",
       "    <tr style=\"text-align: right;\">\n",
       "      <th></th>\n",
       "      <th>index</th>\n",
       "      <th>Components</th>\n",
       "      <th>Final_Position</th>\n",
       "      <th>Final_Clean_Context</th>\n",
       "      <th>Tag</th>\n",
       "      <th>Coarse Tags</th>\n",
       "    </tr>\n",
       "  </thead>\n",
       "  <tbody>\n",
       "    <tr>\n",
       "      <th>0</th>\n",
       "      <td>0</td>\n",
       "      <td>aBimanyu-kumAraH</td>\n",
       "      <td>1</td>\n",
       "      <td>vIraH aBimanyu-kumAraH</td>\n",
       "      <td>K1</td>\n",
       "      <td>Tatpurusha</td>\n",
       "    </tr>\n",
       "    <tr>\n",
       "      <th>1</th>\n",
       "      <td>1</td>\n",
       "      <td>indraprasTa-nagaryAM</td>\n",
       "      <td>0</td>\n",
       "      <td>indraprasTa-nagaryAM pARqavAH rAjyaM paripAlay...</td>\n",
       "      <td>T6</td>\n",
       "      <td>Tatpurusha</td>\n",
       "    </tr>\n",
       "    <tr>\n",
       "      <th>2</th>\n",
       "      <td>2</td>\n",
       "      <td>sadA-AcAriRaH</td>\n",
       "      <td>0</td>\n",
       "      <td>sadA-AcAriRaH nyAya-priyAH satya-vratinaH parA...</td>\n",
       "      <td>Bs6</td>\n",
       "      <td>Bahuvrihi</td>\n",
       "    </tr>\n",
       "    <tr>\n",
       "      <th>3</th>\n",
       "      <td>3</td>\n",
       "      <td>nyAya-priyAH</td>\n",
       "      <td>1</td>\n",
       "      <td>sadA-AcAriRaH nyAya-priyAH satya-vratinaH parA...</td>\n",
       "      <td>Bs6</td>\n",
       "      <td>Bahuvrihi</td>\n",
       "    </tr>\n",
       "    <tr>\n",
       "      <th>4</th>\n",
       "      <td>4</td>\n",
       "      <td>satya-vratinaH</td>\n",
       "      <td>2</td>\n",
       "      <td>sadA-AcAriRaH nyAya-priyAH satya-vratinaH parA...</td>\n",
       "      <td>Bs6</td>\n",
       "      <td>Bahuvrihi</td>\n",
       "    </tr>\n",
       "    <tr>\n",
       "      <th>...</th>\n",
       "      <td>...</td>\n",
       "      <td>...</td>\n",
       "      <td>...</td>\n",
       "      <td>...</td>\n",
       "      <td>...</td>\n",
       "      <td>...</td>\n",
       "    </tr>\n",
       "    <tr>\n",
       "      <th>79655</th>\n",
       "      <td>156457</td>\n",
       "      <td>prayoga-jijYAsAyAH</td>\n",
       "      <td>5</td>\n",
       "      <td>SrIvasizWasya adButAyAH prajYAyAH taTA naBUta-...</td>\n",
       "      <td>T6</td>\n",
       "      <td>Tatpurusha</td>\n",
       "    </tr>\n",
       "    <tr>\n",
       "      <th>79656</th>\n",
       "      <td>156644</td>\n",
       "      <td>eka-ekaH</td>\n",
       "      <td>4</td>\n",
       "      <td>Bavizyanti taTA devAH hi eka-ekaH gaRaH</td>\n",
       "      <td>d</td>\n",
       "      <td>Dvandva</td>\n",
       "    </tr>\n",
       "    <tr>\n",
       "      <th>79657</th>\n",
       "      <td>156657</td>\n",
       "      <td>BAla-locanaH</td>\n",
       "      <td>0</td>\n",
       "      <td>BAla-locanaH SamBuH BagavAn bAdarAyaRaH</td>\n",
       "      <td>Bs6</td>\n",
       "      <td>Bahuvrihi</td>\n",
       "    </tr>\n",
       "    <tr>\n",
       "      <th>79658</th>\n",
       "      <td>156699</td>\n",
       "      <td>dina-anantaraM</td>\n",
       "      <td>0</td>\n",
       "      <td>dina-anantaraM pARqu-rAjaH paYcatvaM gataH</td>\n",
       "      <td>T6</td>\n",
       "      <td>Tatpurusha</td>\n",
       "    </tr>\n",
       "    <tr>\n",
       "      <th>79659</th>\n",
       "      <td>156700</td>\n",
       "      <td>pARqu-rAjaH</td>\n",
       "      <td>1</td>\n",
       "      <td>katipayadina-anantaraM pARqu-rAjaH paYcatvaM g...</td>\n",
       "      <td>K7</td>\n",
       "      <td>Tatpurusha</td>\n",
       "    </tr>\n",
       "  </tbody>\n",
       "</table>\n",
       "<p>79660 rows × 6 columns</p>\n",
       "</div>"
      ],
      "text/plain": [
       "        index            Components  Final_Position  \\\n",
       "0           0      aBimanyu-kumAraH               1   \n",
       "1           1  indraprasTa-nagaryAM               0   \n",
       "2           2         sadA-AcAriRaH               0   \n",
       "3           3          nyAya-priyAH               1   \n",
       "4           4        satya-vratinaH               2   \n",
       "...       ...                   ...             ...   \n",
       "79655  156457    prayoga-jijYAsAyAH               5   \n",
       "79656  156644              eka-ekaH               4   \n",
       "79657  156657          BAla-locanaH               0   \n",
       "79658  156699        dina-anantaraM               0   \n",
       "79659  156700           pARqu-rAjaH               1   \n",
       "\n",
       "                                     Final_Clean_Context  Tag Coarse Tags  \n",
       "0                                 vIraH aBimanyu-kumAraH   K1  Tatpurusha  \n",
       "1      indraprasTa-nagaryAM pARqavAH rAjyaM paripAlay...   T6  Tatpurusha  \n",
       "2      sadA-AcAriRaH nyAya-priyAH satya-vratinaH parA...  Bs6   Bahuvrihi  \n",
       "3      sadA-AcAriRaH nyAya-priyAH satya-vratinaH parA...  Bs6   Bahuvrihi  \n",
       "4      sadA-AcAriRaH nyAya-priyAH satya-vratinaH parA...  Bs6   Bahuvrihi  \n",
       "...                                                  ...  ...         ...  \n",
       "79655  SrIvasizWasya adButAyAH prajYAyAH taTA naBUta-...   T6  Tatpurusha  \n",
       "79656            Bavizyanti taTA devAH hi eka-ekaH gaRaH    d     Dvandva  \n",
       "79657            BAla-locanaH SamBuH BagavAn bAdarAyaRaH  Bs6   Bahuvrihi  \n",
       "79658         dina-anantaraM pARqu-rAjaH paYcatvaM gataH   T6  Tatpurusha  \n",
       "79659  katipayadina-anantaraM pARqu-rAjaH paYcatvaM g...   K7  Tatpurusha  \n",
       "\n",
       "[79660 rows x 6 columns]"
      ]
     },
     "execution_count": 16,
     "metadata": {},
     "output_type": "execute_result"
    }
   ],
   "source": [
    "dfk"
   ]
  },
  {
   "cell_type": "code",
   "execution_count": 17,
   "metadata": {},
   "outputs": [],
   "source": [
    "df = dfk[dfk.Tag.isin(tags[:35])]\n"
   ]
  },
  {
   "cell_type": "code",
   "execution_count": 19,
   "metadata": {},
   "outputs": [
    {
     "data": {
      "text/plain": [
       "(63774, 7874, 7086, 78734)"
      ]
     },
     "execution_count": 19,
     "metadata": {},
     "output_type": "execute_result"
    }
   ],
   "source": [
    "\n",
    "y = train.pop('Categories')\n",
    "train,test = train_test_split(df,test_size=0.10)\n",
    "\n",
    "test = test.reset_index().drop([\"index\"],axis=1)\n",
    "train = train.reset_index().drop([\"index\"],axis=1)\n",
    "\n",
    "train,dev = train_test_split(train,test_size=0.10)\n",
    "train = train.reset_index().drop([\"index\"],axis=1)\n",
    "dev = dev.reset_index().drop([\"index\"],axis=1)\n",
    "\n",
    "\n",
    "\n",
    "len(train),len(test),len(dev),len(train)+len(test)+len(dev)"
   ]
  },
  {
   "cell_type": "code",
   "execution_count": 15,
   "metadata": {},
   "outputs": [
    {
     "data": {
      "text/plain": [
       "79660"
      ]
     },
     "execution_count": 15,
     "metadata": {},
     "output_type": "execute_result"
    }
   ],
   "source": [
    "64524+7966+7170"
   ]
  },
  {
   "cell_type": "code",
   "execution_count": 12,
   "metadata": {},
   "outputs": [
    {
     "data": {
      "text/plain": [
       "79657"
      ]
     },
     "execution_count": 12,
     "metadata": {},
     "output_type": "execute_result"
    }
   ],
   "source": [
    "57551+11949+10157"
   ]
  },
  {
   "cell_type": "code",
   "execution_count": 7,
   "metadata": {},
   "outputs": [
    {
     "data": {
      "text/plain": [
       "(100297, 25075)"
      ]
     },
     "execution_count": 7,
     "metadata": {},
     "output_type": "execute_result"
    }
   ],
   "source": [
    "len(train),len(dev)"
   ]
  },
  {
   "cell_type": "code",
   "execution_count": 13,
   "metadata": {},
   "outputs": [
    {
     "data": {
      "text/html": [
       "<div>\n",
       "<style scoped>\n",
       "    .dataframe tbody tr th:only-of-type {\n",
       "        vertical-align: middle;\n",
       "    }\n",
       "\n",
       "    .dataframe tbody tr th {\n",
       "        vertical-align: top;\n",
       "    }\n",
       "\n",
       "    .dataframe thead th {\n",
       "        text-align: right;\n",
       "    }\n",
       "</style>\n",
       "<table border=\"1\" class=\"dataframe\">\n",
       "  <thead>\n",
       "    <tr style=\"text-align: right;\">\n",
       "      <th></th>\n",
       "      <th>Components</th>\n",
       "      <th>Final_Position</th>\n",
       "      <th>Final_Clean_Context</th>\n",
       "      <th>Tag</th>\n",
       "      <th>Coarse Tags</th>\n",
       "    </tr>\n",
       "  </thead>\n",
       "  <tbody>\n",
       "    <tr>\n",
       "      <th>0</th>\n",
       "      <td>harza-nityatvAt</td>\n",
       "      <td>7</td>\n",
       "      <td>dozAHtat ati-sTOlyam ati-saMpUraRAt guru-maDur...</td>\n",
       "      <td>T6</td>\n",
       "      <td>Tatpurusha</td>\n",
       "    </tr>\n",
       "    <tr>\n",
       "      <th>1</th>\n",
       "      <td>aparADa-jAtam</td>\n",
       "      <td>7</td>\n",
       "      <td>kriyA-viSezaRa-arTaH pratyakzam vA na-satkftaH...</td>\n",
       "      <td>T5</td>\n",
       "      <td>Tatpurusha</td>\n",
       "    </tr>\n",
       "    <tr>\n",
       "      <th>2</th>\n",
       "      <td>SfMgAra-kaTA</td>\n",
       "      <td>4</td>\n",
       "      <td>raGuvaMSasya dvitIya: sargaH Bagavat-kfpayA Sf...</td>\n",
       "      <td>T6</td>\n",
       "      <td>Tatpurusha</td>\n",
       "    </tr>\n",
       "    <tr>\n",
       "      <th>3</th>\n",
       "      <td>sva-budDi</td>\n",
       "      <td>4</td>\n",
       "      <td>mArge prAptAni nEkAni saNkawAni sva-budDi niHs...</td>\n",
       "      <td>T6</td>\n",
       "      <td>Tatpurusha</td>\n",
       "    </tr>\n",
       "    <tr>\n",
       "      <th>4</th>\n",
       "      <td>na-vinASi</td>\n",
       "      <td>6</td>\n",
       "      <td>yat akzaram na kzarati iti akzaram na-vinASi v...</td>\n",
       "      <td>Tn</td>\n",
       "      <td>Tatpurusha</td>\n",
       "    </tr>\n",
       "    <tr>\n",
       "      <th>...</th>\n",
       "      <td>...</td>\n",
       "      <td>...</td>\n",
       "      <td>...</td>\n",
       "      <td>...</td>\n",
       "      <td>...</td>\n",
       "    </tr>\n",
       "    <tr>\n",
       "      <th>136998</th>\n",
       "      <td>na-pratizWaH</td>\n",
       "      <td>0</td>\n",
       "      <td>na-pratizWaH mahat-bAhaH vimUQaH brahmaRaH paTi</td>\n",
       "      <td>Tn</td>\n",
       "      <td>Tatpurusha</td>\n",
       "    </tr>\n",
       "    <tr>\n",
       "      <th>136999</th>\n",
       "      <td>raRa-raNga</td>\n",
       "      <td>7</td>\n",
       "      <td>arjunaH etAvAn SUraH asti yat BavatyAH kadApi ...</td>\n",
       "      <td>T6</td>\n",
       "      <td>Tatpurusha</td>\n",
       "    </tr>\n",
       "    <tr>\n",
       "      <th>137000</th>\n",
       "      <td>nAnA-varRa</td>\n",
       "      <td>2</td>\n",
       "      <td>nAnA-viDAni divyAni nAnA-varRa ca</td>\n",
       "      <td>K1</td>\n",
       "      <td>Tatpurusha</td>\n",
       "    </tr>\n",
       "    <tr>\n",
       "      <th>137001</th>\n",
       "      <td>kapawa-sADu</td>\n",
       "      <td>0</td>\n",
       "      <td>kapawa-sADu kasya Cadma-pAwavam tAdfSam lokezu...</td>\n",
       "      <td>K1</td>\n",
       "      <td>Tatpurusha</td>\n",
       "    </tr>\n",
       "    <tr>\n",
       "      <th>137002</th>\n",
       "      <td>yaTA-Sakti</td>\n",
       "      <td>7</td>\n",
       "      <td>Bavanti tezAm avayavAn pratyakza-anumAna-upade...</td>\n",
       "      <td>A1</td>\n",
       "      <td>Avyayibhava</td>\n",
       "    </tr>\n",
       "  </tbody>\n",
       "</table>\n",
       "<p>137003 rows × 5 columns</p>\n",
       "</div>"
      ],
      "text/plain": [
       "             Components  Final_Position  \\\n",
       "0       harza-nityatvAt               7   \n",
       "1         aparADa-jAtam               7   \n",
       "2          SfMgAra-kaTA               4   \n",
       "3             sva-budDi               4   \n",
       "4             na-vinASi               6   \n",
       "...                 ...             ...   \n",
       "136998     na-pratizWaH               0   \n",
       "136999       raRa-raNga               7   \n",
       "137000       nAnA-varRa               2   \n",
       "137001      kapawa-sADu               0   \n",
       "137002       yaTA-Sakti               7   \n",
       "\n",
       "                                      Final_Clean_Context Tag  Coarse Tags  \n",
       "0       dozAHtat ati-sTOlyam ati-saMpUraRAt guru-maDur...  T6   Tatpurusha  \n",
       "1       kriyA-viSezaRa-arTaH pratyakzam vA na-satkftaH...  T5   Tatpurusha  \n",
       "2       raGuvaMSasya dvitIya: sargaH Bagavat-kfpayA Sf...  T6   Tatpurusha  \n",
       "3       mArge prAptAni nEkAni saNkawAni sva-budDi niHs...  T6   Tatpurusha  \n",
       "4       yat akzaram na kzarati iti akzaram na-vinASi v...  Tn   Tatpurusha  \n",
       "...                                                   ...  ..          ...  \n",
       "136998    na-pratizWaH mahat-bAhaH vimUQaH brahmaRaH paTi  Tn   Tatpurusha  \n",
       "136999  arjunaH etAvAn SUraH asti yat BavatyAH kadApi ...  T6   Tatpurusha  \n",
       "137000                  nAnA-viDAni divyAni nAnA-varRa ca  K1   Tatpurusha  \n",
       "137001  kapawa-sADu kasya Cadma-pAwavam tAdfSam lokezu...  K1   Tatpurusha  \n",
       "137002  Bavanti tezAm avayavAn pratyakza-anumAna-upade...  A1  Avyayibhava  \n",
       "\n",
       "[137003 rows x 5 columns]"
      ]
     },
     "execution_count": 13,
     "metadata": {},
     "output_type": "execute_result"
    }
   ],
   "source": [
    "train"
   ]
  },
  {
   "cell_type": "code",
   "execution_count": 20,
   "metadata": {},
   "outputs": [
    {
     "name": "stdout",
     "output_type": "stream",
     "text": [
      "7874\n",
      "7086\n",
      "63774\n"
     ]
    }
   ],
   "source": [
    "\n",
    "# maplab = [\"Avyayibhava\",\"Bahuvrihi\",\"Dvandva\",\"Tatpurusha\"]\n",
    "def data_preps(train1,nm):\n",
    "    contexts = []\n",
    "    components = []\n",
    "    for i in range(len(train1)):\n",
    "        context = transliterate(train1['Final_Clean_Context'][i],sanscript.SLP1,sanscript.DEVANAGARI)\n",
    "        component = transliterate(train1['Components'][i],sanscript.SLP1,sanscript.DEVANAGARI)\n",
    "\n",
    "        contexts.append(context)\n",
    "        components.append(component)\n",
    "    data = pd.DataFrame({\"Context\":contexts,\"Compounds\":components,\"Tag\":train1['Tag'],\"labels\":train1['Coarse Tags']}).drop_duplicates()\n",
    "    data.to_csv(nm+\"_large.csv\")\n",
    "    print(len(data))\n",
    "data_preps(test,'test')\n",
    "data_preps(dev,'dev')\n",
    "data_preps(train,'train')\n",
    "\n",
    "\n",
    "# data = pd.DataFrame({\"components\":words,\"label\":labels}).drop_duplicates()\n",
    "# data.to_csv(\"dev_cooling.csv\")"
   ]
  },
  {
   "cell_type": "code",
   "execution_count": 24,
   "metadata": {},
   "outputs": [
    {
     "data": {
      "text/plain": [
       "0         T6\n",
       "1         T5\n",
       "2         T6\n",
       "3         T6\n",
       "4         Tn\n",
       "          ..\n",
       "136998    Tn\n",
       "136999    T6\n",
       "137000    K1\n",
       "137001    K1\n",
       "137002    A1\n",
       "Name: Tag, Length: 137003, dtype: object"
      ]
     },
     "execution_count": 24,
     "metadata": {},
     "output_type": "execute_result"
    }
   ],
   "source": [
    "stratify"
   ]
  },
  {
   "cell_type": "code",
   "execution_count": 25,
   "metadata": {},
   "outputs": [],
   "source": []
  },
  {
   "cell_type": "code",
   "execution_count": 26,
   "metadata": {},
   "outputs": [
    {
     "data": {
      "text/html": [
       "<div>\n",
       "<style scoped>\n",
       "    .dataframe tbody tr th:only-of-type {\n",
       "        vertical-align: middle;\n",
       "    }\n",
       "\n",
       "    .dataframe tbody tr th {\n",
       "        vertical-align: top;\n",
       "    }\n",
       "\n",
       "    .dataframe thead th {\n",
       "        text-align: right;\n",
       "    }\n",
       "</style>\n",
       "<table border=\"1\" class=\"dataframe\">\n",
       "  <thead>\n",
       "    <tr style=\"text-align: right;\">\n",
       "      <th></th>\n",
       "      <th>Context</th>\n",
       "      <th>Compounds</th>\n",
       "      <th>Tag</th>\n",
       "      <th>labels</th>\n",
       "    </tr>\n",
       "  </thead>\n",
       "  <tbody>\n",
       "    <tr>\n",
       "      <th>0</th>\n",
       "      <td>दोषाःतत् अति-स्थौल्यम् अति-संपूरणात् गुरु-मधुर...</td>\n",
       "      <td>हर्ष-नित्यत्वात्</td>\n",
       "      <td>T6</td>\n",
       "      <td>Tatpurusha</td>\n",
       "    </tr>\n",
       "    <tr>\n",
       "      <th>1</th>\n",
       "      <td>क्रिया-विशेषण-अर्थः प्रत्यक्षम् वा न-सत्कृतः अ...</td>\n",
       "      <td>अपराध-जातम्</td>\n",
       "      <td>T5</td>\n",
       "      <td>Tatpurusha</td>\n",
       "    </tr>\n",
       "    <tr>\n",
       "      <th>2</th>\n",
       "      <td>रघुवंशस्य द्वितीय: सर्गः भगवत्-कृपया शृंगार-कथा</td>\n",
       "      <td>शृंगार-कथा</td>\n",
       "      <td>T6</td>\n",
       "      <td>Tatpurusha</td>\n",
       "    </tr>\n",
       "    <tr>\n",
       "      <th>3</th>\n",
       "      <td>मार्गे प्राप्तानि नैकानि सङ्कटानि स्व-बुद्धि न...</td>\n",
       "      <td>स्व-बुद्धि</td>\n",
       "      <td>T6</td>\n",
       "      <td>Tatpurusha</td>\n",
       "    </tr>\n",
       "    <tr>\n",
       "      <th>4</th>\n",
       "      <td>यत् अक्षरम् न क्षरति इति अक्षरम् न-विनाशि वेद-...</td>\n",
       "      <td>न-विनाशि</td>\n",
       "      <td>Tn</td>\n",
       "      <td>Tatpurusha</td>\n",
       "    </tr>\n",
       "    <tr>\n",
       "      <th>...</th>\n",
       "      <td>...</td>\n",
       "      <td>...</td>\n",
       "      <td>...</td>\n",
       "      <td>...</td>\n",
       "    </tr>\n",
       "    <tr>\n",
       "      <th>136986</th>\n",
       "      <td>परिवार परिपुष्ट वैपणिक-स्पर्धासु तत्-निकटे पन्...</td>\n",
       "      <td>वैपणिक-स्पर्धासु</td>\n",
       "      <td>K1</td>\n",
       "      <td>Tatpurusha</td>\n",
       "    </tr>\n",
       "    <tr>\n",
       "      <th>136987</th>\n",
       "      <td>कतिपय-दिवसेभ्य: पूर्वम् यदा अहम् प्रात:काले मम...</td>\n",
       "      <td>कतिपय-दिवसेभ्य:</td>\n",
       "      <td>K1</td>\n",
       "      <td>Tatpurusha</td>\n",
       "    </tr>\n",
       "    <tr>\n",
       "      <th>136988</th>\n",
       "      <td>कैकेयी स्वस्य कण्ठे स्थितम् रत्न-खचितम् हारम् ...</td>\n",
       "      <td>रत्न-खचितम्</td>\n",
       "      <td>T3</td>\n",
       "      <td>Tatpurusha</td>\n",
       "    </tr>\n",
       "    <tr>\n",
       "      <th>136993</th>\n",
       "      <td>अतः विपुल-अंसः</td>\n",
       "      <td>विपुल-अंसः</td>\n",
       "      <td>Bs6</td>\n",
       "      <td>Bahuvrihi</td>\n",
       "    </tr>\n",
       "    <tr>\n",
       "      <th>136998</th>\n",
       "      <td>न-प्रतिष्ठः महत्-बाहः विमूढः ब्रह्मणः पथि</td>\n",
       "      <td>न-प्रतिष्ठः</td>\n",
       "      <td>Tn</td>\n",
       "      <td>Tatpurusha</td>\n",
       "    </tr>\n",
       "  </tbody>\n",
       "</table>\n",
       "<p>73352 rows × 4 columns</p>\n",
       "</div>"
      ],
      "text/plain": [
       "                                                  Context         Compounds  \\\n",
       "0       दोषाःतत् अति-स्थौल्यम् अति-संपूरणात् गुरु-मधुर...  हर्ष-नित्यत्वात्   \n",
       "1       क्रिया-विशेषण-अर्थः प्रत्यक्षम् वा न-सत्कृतः अ...       अपराध-जातम्   \n",
       "2         रघुवंशस्य द्वितीय: सर्गः भगवत्-कृपया शृंगार-कथा        शृंगार-कथा   \n",
       "3       मार्गे प्राप्तानि नैकानि सङ्कटानि स्व-बुद्धि न...        स्व-बुद्धि   \n",
       "4       यत् अक्षरम् न क्षरति इति अक्षरम् न-विनाशि वेद-...          न-विनाशि   \n",
       "...                                                   ...               ...   \n",
       "136986  परिवार परिपुष्ट वैपणिक-स्पर्धासु तत्-निकटे पन्...  वैपणिक-स्पर्धासु   \n",
       "136987  कतिपय-दिवसेभ्य: पूर्वम् यदा अहम् प्रात:काले मम...   कतिपय-दिवसेभ्य:   \n",
       "136988  कैकेयी स्वस्य कण्ठे स्थितम् रत्न-खचितम् हारम् ...       रत्न-खचितम्   \n",
       "136993                                     अतः विपुल-अंसः        विपुल-अंसः   \n",
       "136998          न-प्रतिष्ठः महत्-बाहः विमूढः ब्रह्मणः पथि       न-प्रतिष्ठः   \n",
       "\n",
       "        Tag      labels  \n",
       "0        T6  Tatpurusha  \n",
       "1        T5  Tatpurusha  \n",
       "2        T6  Tatpurusha  \n",
       "3        T6  Tatpurusha  \n",
       "4        Tn  Tatpurusha  \n",
       "...     ...         ...  \n",
       "136986   K1  Tatpurusha  \n",
       "136987   K1  Tatpurusha  \n",
       "136988   T3  Tatpurusha  \n",
       "136993  Bs6   Bahuvrihi  \n",
       "136998   Tn  Tatpurusha  \n",
       "\n",
       "[73352 rows x 4 columns]"
      ]
     },
     "execution_count": 26,
     "metadata": {},
     "output_type": "execute_result"
    }
   ],
   "source": [
    "data"
   ]
  },
  {
   "cell_type": "code",
   "execution_count": null,
   "metadata": {},
   "outputs": [],
   "source": []
  }
 ],
 "metadata": {
  "interpreter": {
   "hash": "916dbcbb3f70747c44a77c7bcd40155683ae19c65e1c03b4aa3499c5328201f1"
  },
  "kernelspec": {
   "display_name": "Python 3.8.10 64-bit",
   "language": "python",
   "name": "python3"
  },
  "language_info": {
   "codemirror_mode": {
    "name": "ipython",
    "version": 3
   },
   "file_extension": ".py",
   "mimetype": "text/x-python",
   "name": "python",
   "nbconvert_exporter": "python",
   "pygments_lexer": "ipython3",
   "version": "3.9.7"
  },
  "orig_nbformat": 4
 },
 "nbformat": 4,
 "nbformat_minor": 2
}
