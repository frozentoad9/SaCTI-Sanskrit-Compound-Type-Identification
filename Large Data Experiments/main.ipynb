{
 "cells": [
  {
   "cell_type": "code",
   "execution_count": 1,
   "metadata": {},
   "outputs": [],
   "source": [
    "from train_utils import load_model_t,data_preps,data_model_preps,train,test_results\n"
   ]
  },
  {
   "cell_type": "code",
   "execution_count": 2,
   "metadata": {},
   "outputs": [
    {
     "name": "stderr",
     "output_type": "stream",
     "text": [
      "2022-03-26 09:49:10.455562: I tensorflow/core/platform/cpu_feature_guard.cc:151] This TensorFlow binary is optimized with oneAPI Deep Neural Network Library (oneDNN) to use the following CPU instructions in performance-critical operations:  AVX2 FMA\n",
      "To enable them in other operations, rebuild TensorFlow with the appropriate compiler flags.\n",
      "2022-03-26 09:49:10.495034: I tensorflow/stream_executor/cuda/cuda_gpu_executor.cc:969] successful NUMA node read from SysFS had negative value (-1), but there must be at least one NUMA node, so returning NUMA node zero\n",
      "2022-03-26 09:49:10.516314: I tensorflow/stream_executor/cuda/cuda_gpu_executor.cc:969] successful NUMA node read from SysFS had negative value (-1), but there must be at least one NUMA node, so returning NUMA node zero\n",
      "2022-03-26 09:49:10.516673: I tensorflow/stream_executor/cuda/cuda_gpu_executor.cc:969] successful NUMA node read from SysFS had negative value (-1), but there must be at least one NUMA node, so returning NUMA node zero\n",
      "2022-03-26 09:49:10.963812: I tensorflow/stream_executor/cuda/cuda_gpu_executor.cc:969] successful NUMA node read from SysFS had negative value (-1), but there must be at least one NUMA node, so returning NUMA node zero\n",
      "2022-03-26 09:49:10.964120: I tensorflow/stream_executor/cuda/cuda_gpu_executor.cc:969] successful NUMA node read from S"
     ]
    },
    {
     "data": {
      "text/plain": [
       "'/device:GPU:0'"
      ]
     },
     "execution_count": 2,
     "metadata": {},
     "output_type": "execute_result"
    },
    {
     "name": "stderr",
     "output_type": "stream",
     "text": [
      "ysFS had negative value (-1), but there must be at least one NUMA node, so returning NUMA node zero\n",
      "2022-03-26 09:49:10.964235: I tensorflow/stream_executor/cuda/cuda_gpu_executor.cc:969] successful NUMA node read from SysFS had negative value (-1), but there must be at least one NUMA node, so returning NUMA node zero\n",
      "2022-03-26 09:49:10.964479: I tensorflow/core/common_runtime/gpu/gpu_device.cc:1525] Created device /device:GPU:0 with 13762 MB memory:  -> device: 0, name: NVIDIA GeForce RTX 3080 Laptop GPU, pci bus id: 0000:01:00.0, compute capability: 8.6\n"
     ]
    }
   ],
   "source": [
    "import tensorflow as tf\n",
    "tf.test.gpu_device_name()\n"
   ]
  },
  {
   "cell_type": "code",
   "execution_count": 3,
   "metadata": {},
   "outputs": [],
   "source": [
    "from train_utils import load_model_t,data_preps,data_model_preps,train,test_results\n",
    "def ai(max_length,batch_size):\n",
    "    initp = default_dir+model_name\n",
    "    model_save_path = initp+\"/\"+task\n",
    "    if not os.path.exists(initp):\n",
    "        os.mkdir(initp)\n",
    "    \n",
    "    tokenizer,models = load_model_t(model_name)\n",
    "    sentences_train,labels_train = data_preps(task,mp=mp,pp='train')\n",
    "    sentences_dev,labels_dev = data_preps(task,pp='dev',mp=mp)\n",
    "    print(sentences_dev,sentences_train)\n",
    "\n",
    "    model,train_inp,val_inp,train_label,val_label,train_mask,val_mask,callbacks = data_model_preps(max_length,tokenizer,models,sentences_train,labels_train,sentences_dev,labels_dev,model_save_path)\n",
    "    model,tokenizer = train(tokenizer,model,batch_size,epochs,train_inp,val_inp,train_label,val_label,train_mask,val_mask,callbacks,model_save_path)\n",
    "    #test \n",
    "    f_name = model_name+task+mp+str(max_length)+'dev_report.txt'\n",
    "    f = open(f_name,'w')\n",
    "    outs = test_results(tokenizer,model,max_length,model_save_path,task,mp,'dev')\n",
    "    # outs = test_results(tokenizer,model,max_length,model_save_path,task,mp)\n",
    "\n",
    "    f.write(outs)\n",
    "    f.write(\"******************\")\n",
    "    f.write(str(('model_name ='+model_name,\n",
    "    ' model_save_path='+model_save_path,\n",
    "    ' task='+task,\n",
    "    ' mp='+mp,\" batch,eps=\"+(str(batch_size)+ \" \"+str(epochs)))))\n",
    "    f.close()\n",
    "\n",
    "    f_name = model_name+task+mp+str(max_length)+'test_report.txt'\n",
    "    f = open(f_name,'w')\n",
    "    outs = test_results(tokenizer,model,max_length,model_save_path,task,mp,'test')\n",
    "    # outs = test_results(tokenizer,model,max_length,model_save_path,task,mp)\n",
    "\n",
    "    f.write(outs)\n",
    "    f.write(\"******************\")\n",
    "    f.write(str(('model_name ='+model_name,\n",
    "    ' model_save_path='+model_save_path,\n",
    "    ' task='+task,\n",
    "    ' mp='+mp,\" batch,eps=\"+(str(batch_size)+ \" \"+str(epochs)))))\n",
    "    f.close()\n",
    "\n"
   ]
  },
  {
   "cell_type": "code",
   "execution_count": 3,
   "metadata": {},
   "outputs": [],
   "source": []
  },
  {
   "cell_type": "code",
   "execution_count": null,
   "metadata": {},
   "outputs": [],
   "source": [
    "default_dir = '/home/kabira/Documents/Large'\n",
    "model_save_path = default_dir\n",
    "task = 'context'\n",
    "# max_length=20\n",
    "models = ['xmlr','mbert','indicbert']\n",
    "max_length = [90,200,90]\n",
    "batch_sizes = [45,15,45]\n",
    "print(models)\n",
    "epochs=1\n",
    "mp=''\n",
    "    \n",
    "for i in range(len(models)):#models:\n",
    "    model_name = models[i]\n",
    "    mp=''\n",
    "    ai(max_length=max_length[i],batch_size=batch_sizes[i])\n"
   ]
  },
  {
   "cell_type": "code",
   "execution_count": null,
   "metadata": {},
   "outputs": [],
   "source": [
    "import os\n",
    "duration = 10  # seconds\n",
    "freq = 440  # Hz\n",
    "os.system('play -nq -t alsa synth {} sine {}'.format(duration, freq))"
   ]
  },
  {
   "cell_type": "code",
   "execution_count": null,
   "metadata": {},
   "outputs": [],
   "source": []
  },
  {
   "cell_type": "code",
   "execution_count": null,
   "metadata": {},
   "outputs": [
    {
     "data": {
      "text/plain": [
       "0"
      ]
     },
     "execution_count": 17,
     "metadata": {},
     "output_type": "execute_result"
    }
   ],
   "source": [
    "import os\n",
    "duration = 10  # seconds\n",
    "freq = 440  # Hz\n",
    "os.system('play -nq -t alsa synth {} sine {}'.format(duration, freq))"
   ]
  },
  {
   "cell_type": "code",
   "execution_count": null,
   "metadata": {},
   "outputs": [],
   "source": []
  },
  {
   "cell_type": "code",
   "execution_count": null,
   "metadata": {},
   "outputs": [],
   "source": []
  },
  {
   "cell_type": "code",
   "execution_count": null,
   "metadata": {},
   "outputs": [],
   "source": []
  },
  {
   "cell_type": "code",
   "execution_count": 21,
   "metadata": {},
   "outputs": [
    {
     "data": {
      "text/plain": [
       "0"
      ]
     },
     "execution_count": 21,
     "metadata": {},
     "output_type": "execute_result"
    }
   ],
   "source": []
  },
  {
   "cell_type": "code",
   "execution_count": null,
   "metadata": {},
   "outputs": [],
   "source": []
  },
  {
   "cell_type": "code",
   "execution_count": null,
   "metadata": {},
   "outputs": [],
   "source": []
  },
  {
   "cell_type": "code",
   "execution_count": null,
   "metadata": {},
   "outputs": [],
   "source": []
  },
  {
   "cell_type": "code",
   "execution_count": null,
   "metadata": {},
   "outputs": [],
   "source": []
  },
  {
   "cell_type": "code",
   "execution_count": null,
   "metadata": {},
   "outputs": [],
   "source": []
  },
  {
   "cell_type": "code",
   "execution_count": null,
   "metadata": {},
   "outputs": [],
   "source": []
  },
  {
   "cell_type": "code",
   "execution_count": null,
   "metadata": {},
   "outputs": [],
   "source": []
  }
 ],
 "metadata": {
  "interpreter": {
   "hash": "b2889f45eeaadc62f1537806081b22890e07ffb80edd47c71cf409ef0cae0389"
  },
  "kernelspec": {
   "display_name": "Python 3.9.7 64-bit ('base': conda)",
   "language": "python",
   "name": "python3"
  },
  "language_info": {
   "codemirror_mode": {
    "name": "ipython",
    "version": 3
   },
   "file_extension": ".py",
   "mimetype": "text/x-python",
   "name": "python",
   "nbconvert_exporter": "python",
   "pygments_lexer": "ipython3",
   "version": "3.9.7"
  },
  "orig_nbformat": 4
 },
 "nbformat": 4,
 "nbformat_minor": 2
}
