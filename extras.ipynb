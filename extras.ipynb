{
 "cells": [
  {
   "cell_type": "code",
   "execution_count": null,
   "metadata": {},
   "outputs": [],
   "source": [
    "import pandas as pd\n",
    "test = pd.read_csv('finaltest.csv')\n",
    "train = pd.read_csv('finaltrain.csv')\n",
    "pk = list(set(test[\"Final_Clean_Context_d\"]).intersection(set(train[\"Final_Clean_Context_d\"])))\n",
    "train = train[train[\"Final_Clean_Context_d\"]!=pk[0]]\n",
    "\n",
    "train\n",
    "train = train.drop(['Unnamed: 0'],axis=1\n",
    ").reset_index()\n",
    "test.shape\n",
    "train.shape\n",
    "for i in pk:\n",
    "    print(i)\n",
    "    train = train[train[\"Final_Clean_Context_d\"]!=i]\n",
    "\n",
    "train\n",
    "pk\n"
   ]
  },
  {
   "cell_type": "code",
   "execution_count": 17,
   "metadata": {},
   "outputs": [
    {
     "name": "stderr",
     "output_type": "stream",
     "text": [
      "/tmp/ipykernel_264718/1613486838.py:7: SettingWithCopyWarning: \n",
      "A value is trying to be set on a copy of a slice from a DataFrame\n",
      "\n",
      "See the caveats in the documentation: https://pandas.pydata.org/pandas-docs/stable/user_guide/indexing.html#returning-a-view-versus-a-copy\n",
      "  df['sent'][i] = \" \".join(df['sent'][i].split()[1:])\n"
     ]
    }
   ],
   "source": [
    "import pandas as pd\n",
    "df = pd.read_csv('mbert_train/prediction_best_models.csv').drop(['Unnamed: 0'],axis=1)\n",
    "anta = []\n",
    "for i in range(len(df)):\n",
    "    \n",
    "    # return string  \n",
    "    #print(\" \".join(df['sent'][i].split()[1:]))\n",
    "    # break\n",
    "    df['sent'][i] = \" \".join(df['sent'][i].split()[1:])\n",
    "\n",
    "df1=df[df['lables']!=df['preds']]\n",
    "df1.to_csv('false_preds_xlmr.csv')\n",
    "target_names = ['class 0', 'class 1', 'class 2','class 3']\n",
    "from sklearn.metrics import classification_report\n",
    "\n",
    "print(classification_report(df['preds'], df['lables'], target_names=target_names))\n"
   ]
  },
  {
   "cell_type": "code",
   "execution_count": 23,
   "metadata": {},
   "outputs": [
    {
     "data": {
      "text/plain": [
       "0       पत्रम् इदम् पठित्वा द्रवीभूत-हृदयः अश्रूपूर्णा...\n",
       "1       शैशव-अवस्थायाम् श्रुताम् सिंह-सूकर-युद्ध-कथाम्...\n",
       "2       नद्या नीरे प्रति-फलन् विषण्ण-वदन: कलानाथ: शनै:...\n",
       "3       प्रतिपन्न-नियोग-प्रतिषेध-अर्थः हि फल-हेतुभ्याम...\n",
       "4       लोके अस्मिन् द्विविधा निष्ठा पुरा प्रोक्ता मया...\n",
       "                              ...                        \n",
       "2334    ततः महत्-राजेन नगरे घोषणा कारिता यत् अस्मिन् व...\n",
       "2335    अभ्यर्थ्यते भवान् यत् अस्मिन् जगत्-हितं कार्ये...\n",
       "2336    तत् प्रस्तर-खण्डम् दृष्ट-मात्रम् एव ते व्यचारय...\n",
       "2337                      अति-बल पूर्वम् आसीः हरि-इन्द्रः\n",
       "2338                              एकदा प्रत्यूष-काल आसीत्\n",
       "Name: sent, Length: 2339, dtype: object"
      ]
     },
     "execution_count": 23,
     "metadata": {},
     "output_type": "execute_result"
    }
   ],
   "source": [
    "df['sent']"
   ]
  },
  {
   "cell_type": "code",
   "execution_count": 68,
   "metadata": {},
   "outputs": [],
   "source": [
    "task = 'normal'\n",
    "path = 'postdep/task2 data with complete info/'+task+'_data/'\n",
    "path_exp = path+'/dev_'+task+'.conll'\n",
    "\n",
    "f = open(path_exp,'r')\n",
    "gold =  f.readlines()\n",
    "f.close()\n",
    "f = open('/home/kabira/Documents/githubs/save_dir_trankit/'+'normal'+'/xlm-roberta-base/customized-mwt-ner/preds/tagger.testfa.conllu.epoch--1','r')\n",
    "pred =  f.readlines()\n",
    "f.close()\n",
    "w = open('combine.pks.conll','w')\n",
    "w.write('word_id\tword    gold_label\tpred_label\\n')\n",
    "labs = []\n",
    "preds = []\n",
    "words = []\n",
    "w_m = []\n",
    "for i in range(len(gold)):\n",
    "    try:\n",
    "        if gold[i] == '\\n':\n",
    "            w_m.append(' '.join(words[:-1]))\n",
    "            labs.append(gold[i-1][7])\n",
    "            preds.append(pred[i-1][7])\n",
    "            words = []\n",
    "            w.write('\\n')\n",
    "            continue\n",
    "        gold[i] = gold[i].split('\\t')\n",
    "        gold[i][-1] = gold[i][-1].replace('\\n','')\n",
    "        pred[i] = pred[i].split('\\t')\n",
    "        pred[i][-1] = pred[i][-1].replace('\\n','')\n",
    "        \n",
    "        temp = [gold[i][0],gold[i][1],gold[i][7],pred[i][7]]\n",
    "        words.append(gold[i][1])\n",
    "        w.write('\\t'.join(temp)+'\\n')\n",
    "    except:\n",
    "        import traceback\n",
    "        traceback.print_exc()\n",
    "        print(\"test sent error \",gold[i])\n",
    "        print(\"pred sent error \",pred[i],i)\n",
    "        break\n",
    "    # if i==14:\n",
    "    #     break\n",
    "w.close()\n",
    "df2 = pd.DataFrame({\"sent\":w_m,\"lables\":labs,\"preds\":preds})\n",
    "df2.to_csv('prediction_trankit_model.csv')\n",
    "df = pd.read_csv('prediction_trankit_model.csv').drop(['Unnamed: 0'],axis=1)\n",
    "df1=df[df['lables']!=df['preds']]\n",
    "df1.to_csv('false_preds_trankit.csv')"
   ]
  },
  {
   "cell_type": "code",
   "execution_count": 50,
   "metadata": {},
   "outputs": [],
   "source": [
    "xmr = pd.read_csv('false_preds_trankit.csv')\n",
    "xmr = pd.read_csv('false_preds_xlmr.csv')\n",
    "\n"
   ]
  },
  {
   "cell_type": "code",
   "execution_count": 60,
   "metadata": {},
   "outputs": [
    {
     "name": "stderr",
     "output_type": "stream",
     "text": [
      "/tmp/ipykernel_264718/3281361013.py:3: SettingWithCopyWarning: \n",
      "A value is trying to be set on a copy of a slice from a DataFrame\n",
      "\n",
      "See the caveats in the documentation: https://pandas.pydata.org/pandas-docs/stable/user_guide/indexing.html#returning-a-view-versus-a-copy\n",
      "  xmr['lables'][i] = xmr_map[xmr['lables'][i]]\n",
      "/home/kabira/anaconda3/lib/python3.9/site-packages/pandas/core/indexing.py:1732: SettingWithCopyWarning: \n",
      "A value is trying to be set on a copy of a slice from a DataFrame\n",
      "\n",
      "See the caveats in the documentation: https://pandas.pydata.org/pandas-docs/stable/user_guide/indexing.html#returning-a-view-versus-a-copy\n",
      "  self._setitem_single_block(indexer, value, name)\n",
      "/tmp/ipykernel_264718/3281361013.py:4: SettingWithCopyWarning: \n",
      "A value is trying to be set on a copy of a slice from a DataFrame\n",
      "\n",
      "See the caveats in the documentation: https://pandas.pydata.org/pandas-docs/stable/user_guide/indexing.html#returning-a-view-versus-a-copy\n",
      "  xmr['preds'][i] = xmr_map[xmr['preds'][i]]\n"
     ]
    }
   ],
   "source": [
    "xmr_map = ['Avyayibhava','Bahuvrihi','Dvandva','Tatpurusha']\n",
    "for i in range(len(xmr)):\n",
    "    xmr['lables'][i] = xmr_map[xmr['lables'][i]] \n",
    "    xmr['preds'][i] = xmr_map[xmr['preds'][i]] \n"
   ]
  },
  {
   "cell_type": "code",
   "execution_count": 51,
   "metadata": {},
   "outputs": [
    {
     "data": {
      "text/plain": [
       "311"
      ]
     },
     "execution_count": 51,
     "metadata": {},
     "output_type": "execute_result"
    }
   ],
   "source": [
    "len(xmr)"
   ]
  },
  {
   "cell_type": "code",
   "execution_count": 52,
   "metadata": {},
   "outputs": [
    {
     "data": {
      "text/plain": [
       "281"
      ]
     },
     "execution_count": 52,
     "metadata": {},
     "output_type": "execute_result"
    }
   ],
   "source": [
    "len(xmr)"
   ]
  },
  {
   "cell_type": "code",
   "execution_count": 53,
   "metadata": {},
   "outputs": [],
   "source": [
    "#0 is abhyaarthi\n",
    "#1 is bhauv\n",
    "#2 devend\n",
    "#3 tatpurusha"
   ]
  },
  {
   "cell_type": "code",
   "execution_count": 67,
   "metadata": {},
   "outputs": [
    {
     "data": {
      "text/plain": [
       "Tatpurusha     150\n",
       "Bahuvrihi      107\n",
       "Dvandva         46\n",
       "Avyayibhava      8\n",
       "Name: lables, dtype: int64"
      ]
     },
     "execution_count": 67,
     "metadata": {},
     "output_type": "execute_result"
    }
   ],
   "source": [
    "xmr[\"lables\"].value_counts()"
   ]
  },
  {
   "cell_type": "code",
   "execution_count": 66,
   "metadata": {},
   "outputs": [
    {
     "data": {
      "text/plain": [
       "Bahuvrihi      115\n",
       "Tatpurusha     107\n",
       "Dvandva         45\n",
       "Avyayibhava     14\n",
       "Name: lables, dtype: int64"
      ]
     },
     "execution_count": 66,
     "metadata": {},
     "output_type": "execute_result"
    }
   ],
   "source": [
    "xmr[\"lables\"].value_counts()\n",
    "\n"
   ]
  },
  {
   "cell_type": "code",
   "execution_count": 65,
   "metadata": {},
   "outputs": [
    {
     "data": {
      "text/plain": [
       "Tatpurusha     153\n",
       "Bahuvrihi       89\n",
       "Dvandva         29\n",
       "Avyayibhava     10\n",
       "Name: preds, dtype: int64"
      ]
     },
     "execution_count": 65,
     "metadata": {},
     "output_type": "execute_result"
    }
   ],
   "source": [
    "xmr[\"preds\"].value_counts()\n"
   ]
  },
  {
   "cell_type": "code",
   "execution_count": 64,
   "metadata": {},
   "outputs": [
    {
     "data": {
      "text/plain": [
       "Tatpurusha     143\n",
       "Bahuvrihi      123\n",
       "Dvandva         29\n",
       "Avyayibhava     16\n",
       "Name: preds, dtype: int64"
      ]
     },
     "execution_count": 64,
     "metadata": {},
     "output_type": "execute_result"
    }
   ],
   "source": [
    "xmr[\"preds\"].value_counts()"
   ]
  },
  {
   "cell_type": "code",
   "execution_count": 80,
   "metadata": {},
   "outputs": [],
   "source": [
    "#trankit files descrimination\n",
    "tk_0 = tk[tk['lables']=='Avyayibhava']\n",
    "tk_1 = tk[tk['lables']=='Bahuvrihi']\n",
    "tk_2 = tk[tk['lables']=='Dvandva']\n",
    "tk_3 = tk[tk['lables']=='Tatpurusha']\n",
    "tk_0.to_csv('tk_0.csv')\n",
    "tk_1.to_csv('tk_1.csv')\n",
    "tk_2.to_csv('tk_2.csv')\n",
    "tk_3.to_csv('tk_3.csv')\n",
    "\n"
   ]
  },
  {
   "cell_type": "code",
   "execution_count": 81,
   "metadata": {},
   "outputs": [],
   "source": [
    "#trankit files descrimination\n",
    "xmr_0 = xmr[xmr['lables']=='Avyayibhava']\n",
    "xmr_1 = xmr[xmr['lables']=='Bahuvrihi']\n",
    "xmr_2 = xmr[xmr['lables']=='Dvandva']\n",
    "xmr_3 = xmr[xmr['lables']=='Tatpurusha']\n",
    "xmr_0.to_csv('xmr_0.csv')\n",
    "xmr_1.to_csv('xmr_1.csv')\n",
    "xmr_2.to_csv('xmr_2.csv')\n",
    "xmr_3.to_csv('xmr_3.csv')\n",
    "\n"
   ]
  },
  {
   "cell_type": "code",
   "execution_count": null,
   "metadata": {},
   "outputs": [],
   "source": []
  }
 ],
 "metadata": {
  "interpreter": {
   "hash": "916dbcbb3f70747c44a77c7bcd40155683ae19c65e1c03b4aa3499c5328201f1"
  },
  "kernelspec": {
   "display_name": "Python 3.8.10 64-bit",
   "language": "python",
   "name": "python3"
  },
  "language_info": {
   "codemirror_mode": {
    "name": "ipython",
    "version": 3
   },
   "file_extension": ".py",
   "mimetype": "text/x-python",
   "name": "python",
   "nbconvert_exporter": "python",
   "pygments_lexer": "ipython3",
   "version": "3.9.7"
  },
  "orig_nbformat": 4
 },
 "nbformat": 4,
 "nbformat_minor": 2
}
